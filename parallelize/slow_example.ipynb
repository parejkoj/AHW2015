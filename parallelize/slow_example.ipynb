{
 "cells": [
  {
   "cell_type": "markdown",
   "metadata": {},
   "source": [
    "## Slow example\n",
    "\n",
    "This is an example of my code that runs slow.  I am going to calculate the (Mie) X-ray scattering cross-section for a power-law distribution of dust grain sizes."
   ]
  },
  {
   "cell_type": "code",
   "execution_count": 1,
   "metadata": {
    "collapsed": false
   },
   "outputs": [],
   "source": [
    "import numpy as np\n",
    "import matplotlib.pyplot as plt"
   ]
  },
  {
   "cell_type": "code",
   "execution_count": 2,
   "metadata": {
    "collapsed": true
   },
   "outputs": [],
   "source": [
    "%matplotlib inline"
   ]
  },
  {
   "cell_type": "code",
   "execution_count": 3,
   "metadata": {
    "collapsed": false
   },
   "outputs": [],
   "source": [
    "import dust\n",
    "import sigma_scat as ss"
   ]
  },
  {
   "cell_type": "markdown",
   "metadata": {},
   "source": [
    "Set up the grain size distribution.  Let's assume all the dust grains are silicate."
   ]
  },
  {
   "cell_type": "code",
   "execution_count": 4,
   "metadata": {
    "collapsed": true
   },
   "outputs": [],
   "source": [
    "AMIN, AMAX = 0.005, 0.25 # microns\n",
    "NA  = 50  # number of points to use to sample distribution\n",
    "RHO = 3.8 # grain density (g cm^-3)\n",
    "P   = 3.5 # power law slope\n",
    "\n",
    "mrn = dust.Dustdist( rad=np.linspace(AMIN,AMAX,NA), rho=RHO, p=P )"
   ]
  },
  {
   "cell_type": "markdown",
   "metadata": {},
   "source": [
    "Calculate the scattering and extinction opacity"
   ]
  },
  {
   "cell_type": "code",
   "execution_count": 5,
   "metadata": {
    "collapsed": true
   },
   "outputs": [],
   "source": [
    "ENERGY = np.logspace(-1,1,50)\n",
    "MDUST  = 1.e22 * dust.c.mp() * 0.009  # magic numbers (dust mass per 10^22 H)"
   ]
  },
  {
   "cell_type": "code",
   "execution_count": 6,
   "metadata": {
    "collapsed": false
   },
   "outputs": [],
   "source": [
    "kappascat = ss.Kappascat( E=ENERGY, dist=dust.Dustspectrum(rad=mrn), scatm=ss.makeScatmodel('Mie','Silicate'))"
   ]
  },
  {
   "cell_type": "code",
   "execution_count": 7,
   "metadata": {
    "collapsed": true
   },
   "outputs": [],
   "source": [
    "kappascat(with_mp=False)"
   ]
  },
  {
   "cell_type": "code",
   "execution_count": 8,
   "metadata": {
    "collapsed": false,
    "scrolled": true
   },
   "outputs": [
    {
     "data": {
      "text/plain": [
       "<matplotlib.text.Text at 0x10df08b50>"
      ]
     },
     "execution_count": 8,
     "metadata": {},
     "output_type": "execute_result"
    },
    {
     "data": {
      "image/png": "[encoded data removed]",
      "text/plain": [
       "<matplotlib.figure.Figure at 0x10468cd10>"
      ]
     },
     "metadata": {},
     "output_type": "display_data"
    }
   ],
   "source": [
    "plt.plot( ENERGY, kappascat.kappa*MDUST, 'go' )\n",
    "plt.loglog()\n",
    "plt.xlabel('Energy [keV]')\n",
    "plt.ylabel(r'$\\tau_{sca}$ per $10^{22}$ H')"
   ]
  },
  {
   "cell_type": "markdown",
   "metadata": {},
   "source": [
    "How about the extinction cross-section for a single grain size?"
   ]
  },
  {
   "cell_type": "code",
   "execution_count": null,
   "metadata": {
    "collapsed": false
   },
   "outputs": [],
   "source": [
    "RGRAIN = 0.25 # micron\n",
    "kext = ss.Kappaext( E=ENERGY, dist=dust.Dustspectrum(rad=dust.Grain(RGRAIN, rho=RHO)), \n",
    "                    scatm=ss.makeScatmodel('Mie','Silicate') )"
   ]
  },
  {
   "cell_type": "code",
   "execution_count": null,
   "metadata": {
    "collapsed": false
   },
   "outputs": [],
   "source": [
    "plt.plot(ENERGY, kext.kappa*MDUST, 'go')\n",
    "plt.loglog()\n",
    "\n",
    "plt.xlabel('Energy [keV]')\n",
    "plt.ylabel(r'$\\tau_{ext}$ per $10^{22}$ H')"
   ]
  },
  {
   "cell_type": "markdown",
   "metadata": {},
   "source": [
    "## Finding out what is slow\n",
    "\n",
    "The Python Profiler helps you identify the bottlenecks in your code. In general, you want to use the C version of it: cProfile. The simplest way to run it is to execute it via: `cProfile.run(command,filename)`, where command is a string containing the command you wish to profile, and filename is the file you want to write the results to."
   ]
  },
  {
   "cell_type": "code",
   "execution_count": 8,
   "metadata": {
    "collapsed": false
   },
   "outputs": [],
   "source": [
    "import cProfile\n",
    "import pstats"
   ]
  },
  {
   "cell_type": "code",
   "execution_count": null,
   "metadata": {
    "collapsed": true
   },
   "outputs": [],
   "source": []
  },
  {
   "cell_type": "code",
   "execution_count": 9,
   "metadata": {
    "collapsed": true
   },
   "outputs": [],
   "source": [
    "profile_name = 'Kappascat.prof'"
   ]
  },
  {
   "cell_type": "code",
   "execution_count": 10,
   "metadata": {
    "collapsed": false
   },
   "outputs": [],
   "source": [
    "cProfile.run(\"kappascat(with_mp=False)\",filename=profile_name)"
   ]
  },
  {
   "cell_type": "code",
   "execution_count": 11,
   "metadata": {
    "collapsed": false
   },
   "outputs": [
    {
     "data": {
      "text/plain": [
       "<pstats.Stats instance at 0x10e11f128>"
      ]
     },
     "execution_count": 11,
     "metadata": {},
     "output_type": "execute_result"
    }
   ],
   "source": [
    "stats = pstats.Stats(profile_name)\n",
    "stats.strip_dirs()"
   ]
  },
  {
   "cell_type": "code",
   "execution_count": 12,
   "metadata": {
    "collapsed": false
   },
   "outputs": [
    {
     "name": "stdout",
     "output_type": "stream",
     "text": [
      "Tue Sep 29 07:38:20 2015    Kappascat.prof\n",
      "\n",
      "         3272507 function calls in 44.518 seconds\n",
      "\n",
      "   Ordered by: cumulative time\n",
      "   List reduced from 70 to 20 due to restriction <20>\n",
      "\n",
      "   ncalls  tottime  percall  cumtime  percall filename:lineno(function)\n",
      "        1    0.000    0.000   44.518   44.518 <string>:1(<module>)\n",
      "        1    0.001    0.001   44.518   44.518 sigma_scat.py:189(__init__)\n",
      "       50    0.037    0.001   44.515    0.890 scatmodels.py:398(Qsca)\n",
      "       50   25.640    0.513   44.478    0.890 scatmodels.py:126(getQs)\n",
      "       50    5.763    0.115    5.767    0.115 scatmodels.py:373(create_d)\n",
      "   326635    3.255    0.000    3.255    0.000 scatmodels.py:393(update_gsca)\n",
      "   326685    3.063    0.000    3.063    0.000 {dust.scattering_utils.an_bn}\n",
      "   326685    2.822    0.000    2.822    0.000 scatmodels.py:388(compute_qsca)\n",
      "   326685    2.132    0.000    2.132    0.000 scatmodels.py:390(compute_gsca)\n",
      "  1306793    1.570    0.000    1.570    0.000 {numpy.core.multiarray.zeros}\n",
      "   653480    0.221    0.000    0.221    0.000 fromnumeric.py:2514(size)\n",
      "      100    0.000    0.000    0.009    0.000 polyint.py:62(__call__)\n",
      "      100    0.001    0.000    0.007    0.000 interpolate.py:492(_evaluate)\n",
      "      100    0.002    0.000    0.004    0.000 interpolate.py:443(_call_linear)\n",
      "      100    0.001    0.000    0.002    0.000 interpolate.py:503(_check_bounds)\n",
      "      351    0.002    0.000    0.002    0.000 {method 'reduce' of 'numpy.ufunc' objects}\n",
      "      100    0.000    0.000    0.001    0.000 fromnumeric.py:2058(amax)\n",
      "       51    0.000    0.000    0.001    0.000 constants.py:21(intz)\n",
      "      100    0.000    0.000    0.001    0.000 polyint.py:88(_prepare_x)\n",
      "      100    0.001    0.000    0.001    0.000 {numpy.core.multiarray.arange}\n",
      "\n",
      "\n"
     ]
    },
    {
     "data": {
      "text/plain": [
       "<pstats.Stats instance at 0x10e11f128>"
      ]
     },
     "execution_count": 12,
     "metadata": {},
     "output_type": "execute_result"
    }
   ],
   "source": [
    "stats.sort_stats('cumtime').print_stats(20)"
   ]
  },
  {
   "cell_type": "markdown",
   "metadata": {},
   "source": [
    "### Results of a previous run\n",
    "\n",
    "```\n",
    "Mon Sep 28 19:00:17 2015    Kappascat.prof\n",
    "\n",
    "         2292502 function calls in 60.064 seconds\n",
    "\n",
    "   Ordered by: cumulative time\n",
    "   List reduced from 66 to 20 due to restriction <20>\n",
    "\n",
    "   ncalls  tottime  percall  cumtime  percall filename:lineno(function)\n",
    "        1    0.000    0.000   60.064   60.064 <string>:1(<module>)\n",
    "        1    0.001    0.001   60.063   60.063 sigma_scat.py:189(__init__)\n",
    "       50    0.054    0.001   60.061    1.201 scatmodels.py:382(Qsca)\n",
    "       50   57.759    1.155   60.007    1.200 scatmodels.py:123(getQs)\n",
    "  1306843    1.649    0.000    1.649    0.000 {numpy.core.multiarray.zeros}\n",
    "   326685    0.303    0.000    0.303    0.000 {numpy.core.multiarray.where}\n",
    "   653480    0.283    0.000    0.283    0.000 fromnumeric.py:2514(size)\n",
    "```"
   ]
  },
  {
   "cell_type": "code",
   "execution_count": null,
   "metadata": {
    "collapsed": true
   },
   "outputs": [],
   "source": []
  }
 ],
 "metadata": {
  "kernelspec": {
   "display_name": "Python 2",
   "language": "python",
   "name": "python2"
  },
  "language_info": {
   "codemirror_mode": {
    "name": "ipython",
    "version": 2
   },
   "file_extension": ".py",
   "mimetype": "text/x-python",
   "name": "python",
   "nbconvert_exporter": "python",
   "pygments_lexer": "ipython2",
   "version": "2.7.10"
  }
 },
 "nbformat": 4,
 "nbformat_minor": 0
}
